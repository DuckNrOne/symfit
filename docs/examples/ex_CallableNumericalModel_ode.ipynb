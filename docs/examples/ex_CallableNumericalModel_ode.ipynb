{
 "cells": [
  {
   "cell_type": "markdown",
   "metadata": {},
   "source": [
    "# Example: ODEModels as subproblems using CallableNumericalModel\n",
    "\n",
    "Imagine that you want to use ODE fitting, when your data aren't\n",
    "directly linked to an ODE variable. In this case, you can use the\n",
    "class :class:`symfit.core.models.CallableNumericalModel`.\n",
    "\n",
    "Given is the variable ``y`` of an ODE model with a parameter `k`.``z`` is the result of a function with ``y`` and the additional parameter ``k1``. ``k`` and ``k1`` must be optimize, as shown below. The class uses the given function ``fun`` and the information about the variable and the parameters to fit the data. "
   ]
  },
  {
   "cell_type": "code",
   "execution_count": 2,
   "metadata": {},
   "outputs": [],
   "source": [
    "from symfit import variables, Parameter, Fit, D, ODEModel, CallableNumericalModel\n",
    "import numpy as np\n",
    "import matplotlib.pyplot as plt\n",
    "\n",
    "def fun(ode_model):\n",
    "    def fun_(x, k, k2):\n",
    "        return 2.0 * ode_model(x=x, k=k).y + k2\n",
    "    return fun_\n",
    "\n",
    "# Create data\n",
    "x_data = np.linspace(0.0, 10.0, 1000)\n",
    "k_expected = 0.6\n",
    "k1_expected = 10.0\n",
    "y_data = 2 * np.exp(k_expected * x_data) + k1_expected\n",
    "\n",
    "# Initialise variables and parameters\n",
    "y, x, z = variables('y, x, z')\n",
    "k = Parameter('k', 0.0)\n",
    "k2 = Parameter('k2', 0.0)\n",
    "\n",
    "# Define model\n",
    "ode_model = ODEModel({D(y, x): k * y}, initial={x: 0.0, y: 1.0})\n",
    "model = CallableNumericalModel({z: fun(ode_model)},independent_vars=[x], params=[k,k2])\n",
    "\n",
    "# Apply model\n",
    "fit = Fit(model,x=x_data, z=y_data)\n",
    "fit_result = fit.execute()"
   ]
  },
  {
   "cell_type": "code",
   "execution_count": 7,
   "metadata": {},
   "outputs": [
    {
     "name": "stdout",
     "output_type": "stream",
     "text": [
      "k =  0.5999999793326405\n"
     ]
    }
   ],
   "source": [
    "print('k = ', fit_result.value(k))"
   ]
  },
  {
   "cell_type": "code",
   "execution_count": 8,
   "metadata": {},
   "outputs": [
    {
     "name": "stdout",
     "output_type": "stream",
     "text": [
      "k2 =  10.000011616374367\n"
     ]
    }
   ],
   "source": [
    "print('k2 = ', fit_result.value(k2))"
   ]
  }
 ],
 "metadata": {
  "kernelspec": {
   "display_name": "Python 3",
   "language": "python",
   "name": "python3"
  },
  "language_info": {
   "codemirror_mode": {
    "name": "ipython",
    "version": 3
   },
   "file_extension": ".py",
   "mimetype": "text/x-python",
   "name": "python",
   "nbconvert_exporter": "python",
   "pygments_lexer": "ipython3",
   "version": "3.7.3"
  }
 },
 "nbformat": 4,
 "nbformat_minor": 2
}
